{
  "nbformat": 4,
  "nbformat_minor": 0,
  "metadata": {
    "colab": {
      "name": "political_ads_on_snapchat.ipynb",
      "provenance": [],
      "collapsed_sections": [],
      "authorship_tag": "ABX9TyMfZoiUk6qyqrDWW4kW/KFK"
    },
    "kernelspec": {
      "name": "python3",
      "display_name": "Python 3"
    }
  },
  "cells": [
    {
      "cell_type": "code",
      "metadata": {
        "id": "3gpLf3eiS4ln"
      },
      "source": [
        "import pandas as pd\r\n",
        "import numpy as np\r\n",
        "import matplotlib.pyplot as plt\r\n",
        "\r\n",
        "import warnings\r\n",
        "\r\n",
        "warnings.filterwarnings(\"ignore\")\r\n",
        "\r\n",
        "%matplotlib inline"
      ],
      "execution_count": null,
      "outputs": []
    },
    {
      "cell_type": "code",
      "metadata": {
        "id": "WKO1Z24QTGnd"
      },
      "source": [
        "df = pd.read_csv(\"/content/PoliticalAds.csv\")"
      ],
      "execution_count": null,
      "outputs": []
    },
    {
      "cell_type": "code",
      "metadata": {
        "colab": {
          "base_uri": "https://localhost:8080/",
          "height": 366
        },
        "id": "765HDZ2u7-eY",
        "outputId": "0284c20d-a6e9-4b97-ad71-22c182b26b9d"
      },
      "source": [
        "df.head()"
      ],
      "execution_count": null,
      "outputs": [
        {
          "output_type": "execute_result",
          "data": {
            "text/html": [
              "<div>\n",
              "<style scoped>\n",
              "    .dataframe tbody tr th:only-of-type {\n",
              "        vertical-align: middle;\n",
              "    }\n",
              "\n",
              "    .dataframe tbody tr th {\n",
              "        vertical-align: top;\n",
              "    }\n",
              "\n",
              "    .dataframe thead th {\n",
              "        text-align: right;\n",
              "    }\n",
              "</style>\n",
              "<table border=\"1\" class=\"dataframe\">\n",
              "  <thead>\n",
              "    <tr style=\"text-align: right;\">\n",
              "      <th></th>\n",
              "      <th>ADID</th>\n",
              "      <th>CreativeUrl</th>\n",
              "      <th>Currency Code</th>\n",
              "      <th>Spend</th>\n",
              "      <th>Impressions</th>\n",
              "      <th>StartDate</th>\n",
              "      <th>EndDate</th>\n",
              "      <th>OrganizationName</th>\n",
              "      <th>BillingAddress</th>\n",
              "      <th>CandidateBallotInformation</th>\n",
              "      <th>PayingAdvertiserName</th>\n",
              "      <th>Gender</th>\n",
              "      <th>AgeBracket</th>\n",
              "      <th>CountryCode</th>\n",
              "      <th>Regions (Included)</th>\n",
              "      <th>Regions (Excluded)</th>\n",
              "      <th>Electoral Districts (Included)</th>\n",
              "      <th>Electoral Districts (Excluded)</th>\n",
              "      <th>Radius Targeting (Included)</th>\n",
              "      <th>Radius Targeting (Excluded)</th>\n",
              "      <th>Metros (Included)</th>\n",
              "      <th>Metros (Excluded)</th>\n",
              "      <th>Postal Codes (Included)</th>\n",
              "      <th>Postal Codes (Excluded)</th>\n",
              "      <th>Location Categories (Included)</th>\n",
              "      <th>Location Categories (Excluded)</th>\n",
              "      <th>Interests</th>\n",
              "      <th>OsType</th>\n",
              "      <th>Segments</th>\n",
              "      <th>Language</th>\n",
              "      <th>AdvancedDemographics</th>\n",
              "      <th>Targeting Connection Type</th>\n",
              "      <th>Targeting Carrier (ISP)</th>\n",
              "      <th>CreativeProperties</th>\n",
              "    </tr>\n",
              "  </thead>\n",
              "  <tbody>\n",
              "    <tr>\n",
              "      <th>0</th>\n",
              "      <td>069d4ce0a287ecbd8afab55b3ce4f364291750d33c60c9...</td>\n",
              "      <td>https://www.snap.com/political-ads/asset/bfd93...</td>\n",
              "      <td>USD</td>\n",
              "      <td>500</td>\n",
              "      <td>93374</td>\n",
              "      <td>2020/10/18 00:38:27Z</td>\n",
              "      <td>2020/10/23 23:59:59Z</td>\n",
              "      <td>Riveter Digital</td>\n",
              "      <td>US</td>\n",
              "      <td>NaN</td>\n",
              "      <td>Bennett for Senate</td>\n",
              "      <td>NaN</td>\n",
              "      <td>NaN</td>\n",
              "      <td>united states</td>\n",
              "      <td>NaN</td>\n",
              "      <td>NaN</td>\n",
              "      <td>NaN</td>\n",
              "      <td>NaN</td>\n",
              "      <td>latitude 40.11054;longitude -88.2269005;radius...</td>\n",
              "      <td>NaN</td>\n",
              "      <td>NaN</td>\n",
              "      <td>NaN</td>\n",
              "      <td>NaN</td>\n",
              "      <td>NaN</td>\n",
              "      <td>NaN</td>\n",
              "      <td>NaN</td>\n",
              "      <td>NaN</td>\n",
              "      <td>NaN</td>\n",
              "      <td>Provided by Advertiser</td>\n",
              "      <td>NaN</td>\n",
              "      <td>NaN</td>\n",
              "      <td>NaN</td>\n",
              "      <td>NaN</td>\n",
              "      <td>web_view_url:https://bennettforsenate.com/voting/</td>\n",
              "    </tr>\n",
              "    <tr>\n",
              "      <th>1</th>\n",
              "      <td>f49b53a2eee07235d0081b56f08aba300cfdd5ea950bf4...</td>\n",
              "      <td>https://www.snap.com/political-ads/asset/f0fe5...</td>\n",
              "      <td>USD</td>\n",
              "      <td>44</td>\n",
              "      <td>15510</td>\n",
              "      <td>2020/11/29 22:10:00Z</td>\n",
              "      <td>2020/12/04 20:59:00Z</td>\n",
              "      <td>Senyar Group Agency</td>\n",
              "      <td>Press Street,Shewikh,11111,KW</td>\n",
              "      <td>Ahmad AlFadhel</td>\n",
              "      <td>Ahmad AlFadhel</td>\n",
              "      <td>NaN</td>\n",
              "      <td>18+</td>\n",
              "      <td>kuwait</td>\n",
              "      <td>NaN</td>\n",
              "      <td>NaN</td>\n",
              "      <td>NaN</td>\n",
              "      <td>NaN</td>\n",
              "      <td>latitude 29.337311999999997;longitude 47.96013...</td>\n",
              "      <td>NaN</td>\n",
              "      <td>NaN</td>\n",
              "      <td>NaN</td>\n",
              "      <td>NaN</td>\n",
              "      <td>NaN</td>\n",
              "      <td>NaN</td>\n",
              "      <td>NaN</td>\n",
              "      <td>NaN</td>\n",
              "      <td>NaN</td>\n",
              "      <td>Provided by Advertiser</td>\n",
              "      <td>NaN</td>\n",
              "      <td>NaN</td>\n",
              "      <td>NaN</td>\n",
              "      <td>NaN</td>\n",
              "      <td>web_view_url:https://www.youtube.com/watch?v=J...</td>\n",
              "    </tr>\n",
              "    <tr>\n",
              "      <th>2</th>\n",
              "      <td>cf8070c6d54040dda236b3f2d327a6d855570a3a16f3c5...</td>\n",
              "      <td>https://www.snap.com/political-ads/asset/0b208...</td>\n",
              "      <td>USD</td>\n",
              "      <td>500</td>\n",
              "      <td>130146</td>\n",
              "      <td>2020/10/05 04:01:00Z</td>\n",
              "      <td>2020/10/05 22:00:00Z</td>\n",
              "      <td>Chong and Koster</td>\n",
              "      <td>1707 L St NW Suite 950,Washington,20036,US</td>\n",
              "      <td>NaN</td>\n",
              "      <td>Voter Participation Center</td>\n",
              "      <td>NaN</td>\n",
              "      <td>18-45</td>\n",
              "      <td>united states</td>\n",
              "      <td>Ohio</td>\n",
              "      <td>NaN</td>\n",
              "      <td>NaN</td>\n",
              "      <td>NaN</td>\n",
              "      <td>NaN</td>\n",
              "      <td>NaN</td>\n",
              "      <td>NaN</td>\n",
              "      <td>NaN</td>\n",
              "      <td>NaN</td>\n",
              "      <td>NaN</td>\n",
              "      <td>NaN</td>\n",
              "      <td>NaN</td>\n",
              "      <td>NaN</td>\n",
              "      <td>NaN</td>\n",
              "      <td>NaN</td>\n",
              "      <td>NaN</td>\n",
              "      <td>NaN</td>\n",
              "      <td>NaN</td>\n",
              "      <td>NaN</td>\n",
              "      <td>web_view_url:https://register.vote.org/?partne...</td>\n",
              "    </tr>\n",
              "    <tr>\n",
              "      <th>3</th>\n",
              "      <td>d1c68c514ec9bf5073ed9ab4d75dfcf9eb399bd577eea3...</td>\n",
              "      <td>https://www.snap.com/political-ads/asset/05a68...</td>\n",
              "      <td>USD</td>\n",
              "      <td>486</td>\n",
              "      <td>74447</td>\n",
              "      <td>2020/10/17 19:07:26Z</td>\n",
              "      <td>2020/11/03 22:00:00Z</td>\n",
              "      <td>Assemble The Agency</td>\n",
              "      <td>1001 Connecticut Ave NW Suite 350,Washington,2...</td>\n",
              "      <td>NaN</td>\n",
              "      <td>Future Majority</td>\n",
              "      <td>NaN</td>\n",
              "      <td>18-29</td>\n",
              "      <td>united states</td>\n",
              "      <td>Michigan</td>\n",
              "      <td>NaN</td>\n",
              "      <td>NaN</td>\n",
              "      <td>NaN</td>\n",
              "      <td>NaN</td>\n",
              "      <td>NaN</td>\n",
              "      <td>NaN</td>\n",
              "      <td>NaN</td>\n",
              "      <td>NaN</td>\n",
              "      <td>NaN</td>\n",
              "      <td>NaN</td>\n",
              "      <td>NaN</td>\n",
              "      <td>NaN</td>\n",
              "      <td>NaN</td>\n",
              "      <td>NaN</td>\n",
              "      <td>NaN</td>\n",
              "      <td>NaN</td>\n",
              "      <td>NaN</td>\n",
              "      <td>NaN</td>\n",
              "      <td>deep_link_uri:snapchat://games/launch?app_id=7...</td>\n",
              "    </tr>\n",
              "    <tr>\n",
              "      <th>4</th>\n",
              "      <td>24004cff169fdcf38fcb189137b6e9f3f3983ac8fb0179...</td>\n",
              "      <td>https://www.snap.com/political-ads/asset/ddc44...</td>\n",
              "      <td>USD</td>\n",
              "      <td>31</td>\n",
              "      <td>5532</td>\n",
              "      <td>2020/11/19 15:26:25Z</td>\n",
              "      <td>2020/12/08 04:59:59Z</td>\n",
              "      <td>Hawkfish LLC</td>\n",
              "      <td>909 Third Avenue,New York,10022,US</td>\n",
              "      <td>Collective PAC</td>\n",
              "      <td>The Collective PAC</td>\n",
              "      <td>NaN</td>\n",
              "      <td>18-30</td>\n",
              "      <td>united states</td>\n",
              "      <td>Georgia</td>\n",
              "      <td>NaN</td>\n",
              "      <td>NaN</td>\n",
              "      <td>NaN</td>\n",
              "      <td>NaN</td>\n",
              "      <td>NaN</td>\n",
              "      <td>NaN</td>\n",
              "      <td>NaN</td>\n",
              "      <td>NaN</td>\n",
              "      <td>NaN</td>\n",
              "      <td>NaN</td>\n",
              "      <td>NaN</td>\n",
              "      <td>NaN</td>\n",
              "      <td>NaN</td>\n",
              "      <td>NaN</td>\n",
              "      <td>NaN</td>\n",
              "      <td>NaN</td>\n",
              "      <td>NaN</td>\n",
              "      <td>NaN</td>\n",
              "      <td>web_view_url:https://votetolive.org/vote-to-li...</td>\n",
              "    </tr>\n",
              "  </tbody>\n",
              "</table>\n",
              "</div>"
            ],
            "text/plain": [
              "                                                ADID  ...                                 CreativeProperties\n",
              "0  069d4ce0a287ecbd8afab55b3ce4f364291750d33c60c9...  ...  web_view_url:https://bennettforsenate.com/voting/\n",
              "1  f49b53a2eee07235d0081b56f08aba300cfdd5ea950bf4...  ...  web_view_url:https://www.youtube.com/watch?v=J...\n",
              "2  cf8070c6d54040dda236b3f2d327a6d855570a3a16f3c5...  ...  web_view_url:https://register.vote.org/?partne...\n",
              "3  d1c68c514ec9bf5073ed9ab4d75dfcf9eb399bd577eea3...  ...  deep_link_uri:snapchat://games/launch?app_id=7...\n",
              "4  24004cff169fdcf38fcb189137b6e9f3f3983ac8fb0179...  ...  web_view_url:https://votetolive.org/vote-to-li...\n",
              "\n",
              "[5 rows x 34 columns]"
            ]
          },
          "metadata": {
            "tags": []
          },
          "execution_count": 3
        }
      ]
    },
    {
      "cell_type": "code",
      "metadata": {
        "colab": {
          "base_uri": "https://localhost:8080/"
        },
        "id": "qnJ0Ng_DYhQv",
        "outputId": "89ca227b-f48f-42ec-a01e-fc85c925dda7"
      },
      "source": [
        "df.info()"
      ],
      "execution_count": null,
      "outputs": [
        {
          "output_type": "stream",
          "text": [
            "<class 'pandas.core.frame.DataFrame'>\n",
            "RangeIndex: 12727 entries, 0 to 12726\n",
            "Data columns (total 34 columns):\n",
            " #   Column                          Non-Null Count  Dtype  \n",
            "---  ------                          --------------  -----  \n",
            " 0   ADID                            12727 non-null  object \n",
            " 1   CreativeUrl                     12727 non-null  object \n",
            " 2   Currency Code                   12727 non-null  object \n",
            " 3   Spend                           12727 non-null  int64  \n",
            " 4   Impressions                     12727 non-null  int64  \n",
            " 5   StartDate                       12727 non-null  object \n",
            " 6   EndDate                         11043 non-null  object \n",
            " 7   OrganizationName                12727 non-null  object \n",
            " 8   BillingAddress                  12727 non-null  object \n",
            " 9   CandidateBallotInformation      6401 non-null   object \n",
            " 10  PayingAdvertiserName            12727 non-null  object \n",
            " 11  Gender                          1362 non-null   object \n",
            " 12  AgeBracket                      12118 non-null  object \n",
            " 13  CountryCode                     12727 non-null  object \n",
            " 14  Regions (Included)              5814 non-null   object \n",
            " 15  Regions (Excluded)              362 non-null    object \n",
            " 16  Electoral Districts (Included)  268 non-null    object \n",
            " 17  Electoral Districts (Excluded)  0 non-null      float64\n",
            " 18  Radius Targeting (Included)     864 non-null    object \n",
            " 19  Radius Targeting (Excluded)     10 non-null     object \n",
            " 20  Metros (Included)               488 non-null    object \n",
            " 21  Metros (Excluded)               34 non-null     object \n",
            " 22  Postal Codes (Included)         1605 non-null   object \n",
            " 23  Postal Codes (Excluded)         98 non-null     object \n",
            " 24  Location Categories (Included)  1 non-null      object \n",
            " 25  Location Categories (Excluded)  0 non-null      float64\n",
            " 26  Interests                       2162 non-null   object \n",
            " 27  OsType                          155 non-null    object \n",
            " 28  Segments                        6298 non-null   object \n",
            " 29  Language                        2638 non-null   object \n",
            " 30  AdvancedDemographics            783 non-null    object \n",
            " 31  Targeting Connection Type       69 non-null     object \n",
            " 32  Targeting Carrier (ISP)         6 non-null      object \n",
            " 33  CreativeProperties              10728 non-null  object \n",
            "dtypes: float64(2), int64(2), object(30)\n",
            "memory usage: 3.3+ MB\n"
          ],
          "name": "stdout"
        }
      ]
    },
    {
      "cell_type": "markdown",
      "metadata": {
        "id": "PiSXsVJDawhe"
      },
      "source": [
        "## Reduce the size of the dataset"
      ]
    },
    {
      "cell_type": "code",
      "metadata": {
        "id": "JeZB7Eb7qDsS"
      },
      "source": [
        "df_world = df[df['CountryCode'] != 'united states']"
      ],
      "execution_count": null,
      "outputs": []
    },
    {
      "cell_type": "code",
      "metadata": {
        "id": "ok6Df2JzrbfJ"
      },
      "source": [
        "df = df[df['CountryCode'] == 'united states']"
      ],
      "execution_count": null,
      "outputs": []
    },
    {
      "cell_type": "code",
      "metadata": {
        "colab": {
          "base_uri": "https://localhost:8080/"
        },
        "id": "hDg7cUlo7YVF",
        "outputId": "7c8a42f6-ce60-4f26-db5a-ef73fbe3246f"
      },
      "source": [
        "df['StartDate'] = pd.to_datetime(df['StartDate'])\r\n",
        "\r\n",
        "df = df[(df['StartDate'] > ('2020-09-01'))]\r\n",
        "\r\n",
        "df['StartDate'].sort_values(ascending=False)"
      ],
      "execution_count": null,
      "outputs": [
        {
          "output_type": "execute_result",
          "data": {
            "text/plain": [
              "9707    2020-12-30 15:22:00+00:00\n",
              "4458    2020-12-30 15:22:00+00:00\n",
              "3488    2020-12-30 15:22:00+00:00\n",
              "7312    2020-12-30 06:08:04+00:00\n",
              "3093    2020-12-30 06:08:04+00:00\n",
              "                   ...           \n",
              "8817    2020-09-01 04:00:00+00:00\n",
              "11168   2020-09-01 04:00:00+00:00\n",
              "10168   2020-09-01 04:00:00+00:00\n",
              "6880    2020-09-01 04:00:00+00:00\n",
              "8909    2020-09-01 04:00:00+00:00\n",
              "Name: StartDate, Length: 7622, dtype: datetime64[ns, UTC]"
            ]
          },
          "metadata": {
            "tags": []
          },
          "execution_count": 57
        }
      ]
    },
    {
      "cell_type": "markdown",
      "metadata": {
        "id": "a_5j3jpBad4x"
      },
      "source": [
        "## Remove outliers"
      ]
    },
    {
      "cell_type": "code",
      "metadata": {
        "colab": {
          "base_uri": "https://localhost:8080/"
        },
        "id": "QS3YjTPyIZkA",
        "outputId": "6724bbab-494a-4387-e8e7-898a042f81cd"
      },
      "source": [
        "df['Impressions'].describe()"
      ],
      "execution_count": null,
      "outputs": [
        {
          "output_type": "execute_result",
          "data": {
            "text/plain": [
              "count    7.622000e+03\n",
              "mean     3.878356e+05\n",
              "std      1.651435e+06\n",
              "min      1.000000e+00\n",
              "25%      1.175150e+04\n",
              "50%      5.263500e+04\n",
              "75%      2.067550e+05\n",
              "max      7.699226e+07\n",
              "Name: Impressions, dtype: float64"
            ]
          },
          "metadata": {
            "tags": []
          },
          "execution_count": 59
        }
      ]
    },
    {
      "cell_type": "code",
      "metadata": {
        "colab": {
          "base_uri": "https://localhost:8080/",
          "height": 276
        },
        "id": "4DkWpvwwIxQZ",
        "outputId": "2cc49c9b-f2e7-41fe-edda-6cb8c8438744"
      },
      "source": [
        "plt.boxplot(df['Impressions'])\r\n",
        "plt.show()"
      ],
      "execution_count": null,
      "outputs": [
        {
          "output_type": "display_data",
          "data": {
            "image/png": "[encoded data removed]",
            "text/plain": [
              "<Figure size 432x288 with 1 Axes>"
            ]
          },
          "metadata": {
            "tags": [],
            "needs_background": "light"
          }
        }
      ]
    },
    {
      "cell_type": "code",
      "metadata": {
        "colab": {
          "base_uri": "https://localhost:8080/",
          "height": 278
        },
        "id": "3t4Llnv5I9ZI",
        "outputId": "8e195d1f-bc9e-4304-c279-9ded7a4ce8ae"
      },
      "source": [
        "plt.hist(df['Impressions'])\r\n",
        "plt.show()"
      ],
      "execution_count": null,
      "outputs": [
        {
          "output_type": "display_data",
          "data": {
            "image/png": "[encoded data removed]",
            "text/plain": [
              "<Figure size 432x288 with 1 Axes>"
            ]
          },
          "metadata": {
            "tags": [],
            "needs_background": "light"
          }
        }
      ]
    },
    {
      "cell_type": "code",
      "metadata": {
        "id": "6ZAI9M-NOL-K"
      },
      "source": [
        "from scipy.stats import zscore\r\n",
        "\r\n",
        "z_scores = zscore(df['Impressions'])\r\n",
        "for threshold in range (1, 5):\r\n",
        "    print(\"The score threshold is: {}\".format(threshold))\r\n",
        "    print(\"The indicies of the outliers:\")\r\n",
        "    print(np.where(z_scores > threshold))\r\n",
        "    print(\"Number of outliers is: {}\".format(len((np.where(z_scores > threshold)[0]))))"
      ],
      "execution_count": null,
      "outputs": []
    },
    {
      "cell_type": "code",
      "metadata": {
        "colab": {
          "base_uri": "https://localhost:8080/"
        },
        "id": "owwKcyzIJkfR",
        "outputId": "958a650c-216d-48b4-bb2e-d42b759a452c"
      },
      "source": [
        "q75, q25 = np.percentile(df['Impressions'], [75, 25])\r\n",
        "iqr = q75 - q25\r\n",
        "\r\n",
        "for threshold in np.arange(1, 5, 0.5):\r\n",
        "    min_val = q25 - (iqr * threshold)\r\n",
        "    max_val = q75 + (iqr * threshold)\r\n",
        "    print(\"The score threshold is: {}\".format(threshold))\r\n",
        "    print(\"Number of outliers is: {}\".format(\r\n",
        "        len((np.where((df[\"Impressions\"] > max_val) | (df[\"Impressions\"] < min_val))[0]))\r\n",
        "    ))"
      ],
      "execution_count": null,
      "outputs": [
        {
          "output_type": "stream",
          "text": [
            "The score threshold is: 1.0\n",
            "Number of outliers is: 1233\n",
            "The score threshold is: 1.5\n",
            "Number of outliers is: 1054\n",
            "The score threshold is: 2.0\n",
            "Number of outliers is: 922\n",
            "The score threshold is: 2.5\n",
            "Number of outliers is: 817\n",
            "The score threshold is: 3.0\n",
            "Number of outliers is: 736\n",
            "The score threshold is: 3.5\n",
            "Number of outliers is: 658\n",
            "The score threshold is: 4.0\n",
            "Number of outliers is: 602\n",
            "The score threshold is: 4.5\n",
            "Number of outliers is: 555\n"
          ],
          "name": "stdout"
        }
      ]
    },
    {
      "cell_type": "code",
      "metadata": {
        "id": "6oAOwRTqB9bt"
      },
      "source": [
        "df = df[~((df['Impressions'] < (q25 - iqr)) | (df['Impressions'] > (q75 + iqr)))]"
      ],
      "execution_count": null,
      "outputs": []
    },
    {
      "cell_type": "code",
      "metadata": {
        "colab": {
          "base_uri": "https://localhost:8080/"
        },
        "id": "UR08C8GcC2iw",
        "outputId": "7d1e1ebd-8d4f-4af7-c481-202c83a23ca9"
      },
      "source": [
        "df.shape"
      ],
      "execution_count": null,
      "outputs": [
        {
          "output_type": "execute_result",
          "data": {
            "text/plain": [
              "(6389, 35)"
            ]
          },
          "metadata": {
            "tags": []
          },
          "execution_count": 66
        }
      ]
    },
    {
      "cell_type": "code",
      "metadata": {
        "colab": {
          "base_uri": "https://localhost:8080/",
          "height": 265
        },
        "id": "Ihrh7U9hDU1U",
        "outputId": "3ff8dafa-f306-428c-f2da-b94c7c997b9e"
      },
      "source": [
        "plt.boxplot(df['Impressions'])\r\n",
        "plt.show()"
      ],
      "execution_count": null,
      "outputs": [
        {
          "output_type": "display_data",
          "data": {
            "image/png": "[encoded data removed]",
            "text/plain": [
              "<Figure size 432x288 with 1 Axes>"
            ]
          },
          "metadata": {
            "tags": [],
            "needs_background": "light"
          }
        }
      ]
    },
    {
      "cell_type": "code",
      "metadata": {
        "colab": {
          "base_uri": "https://localhost:8080/",
          "height": 265
        },
        "id": "pf1NwkcSDZSN",
        "outputId": "1f9ad0bc-c904-49a3-d1ca-83e9e785e8f5"
      },
      "source": [
        "plt.hist(df['Impressions'])\r\n",
        "plt.show()"
      ],
      "execution_count": null,
      "outputs": [
        {
          "output_type": "display_data",
          "data": {
            "image/png": "[encoded data removed]",
            "text/plain": [
              "<Figure size 432x288 with 1 Axes>"
            ]
          },
          "metadata": {
            "tags": [],
            "needs_background": "light"
          }
        }
      ]
    },
    {
      "cell_type": "code",
      "metadata": {
        "colab": {
          "base_uri": "https://localhost:8080/"
        },
        "id": "rY56IRwSDc0E",
        "outputId": "f07792e6-42d4-434e-c5ce-519c4d456869"
      },
      "source": [
        "q25, q75 = np.percentile(df['Impressions'], [25, 75])\r\n",
        "iqr = q75 - q25\r\n",
        "\r\n",
        "for threshold in np.arange(1, 5, 0.5):\r\n",
        "    min_val = q25 - (iqr * threshold)\r\n",
        "    max_val = q75 + (iqr * threshold)\r\n",
        "    print(\"Thescore threshold is: {}\".format(threshold))\r\n",
        "    print(\"Number of outliers is: {}\".format(\r\n",
        "        len((np.where((df['Impressions'] > max_val) | (df['Impressions'] < min_val))[0]))\r\n",
        "    ))"
      ],
      "execution_count": null,
      "outputs": [
        {
          "output_type": "stream",
          "text": [
            "Thescore threshold is: 1.0\n",
            "Number of outliers is: 739\n",
            "Thescore threshold is: 1.5\n",
            "Number of outliers is: 518\n",
            "Thescore threshold is: 2.0\n",
            "Number of outliers is: 325\n",
            "Thescore threshold is: 2.5\n",
            "Number of outliers is: 196\n",
            "Thescore threshold is: 3.0\n",
            "Number of outliers is: 59\n",
            "Thescore threshold is: 3.5\n",
            "Number of outliers is: 0\n",
            "Thescore threshold is: 4.0\n",
            "Number of outliers is: 0\n",
            "Thescore threshold is: 4.5\n",
            "Number of outliers is: 0\n"
          ],
          "name": "stdout"
        }
      ]
    },
    {
      "cell_type": "code",
      "metadata": {
        "id": "MLl-G9Z3ELZB"
      },
      "source": [
        "df = df[~((df['Impressions'] < (q25 - iqr)) | (df['Impressions'] > (q75 + iqr)))]"
      ],
      "execution_count": null,
      "outputs": []
    },
    {
      "cell_type": "code",
      "metadata": {
        "colab": {
          "base_uri": "https://localhost:8080/",
          "height": 268
        },
        "id": "qAT9WKfNEMiO",
        "outputId": "748fa341-37dd-4c79-ea3e-db62ac9b1ee5"
      },
      "source": [
        "plt.boxplot(df['Impressions'])\r\n",
        "plt.show()"
      ],
      "execution_count": null,
      "outputs": [
        {
          "output_type": "display_data",
          "data": {
            "image/png": "[encoded data removed]",
            "text/plain": [
              "<Figure size 432x288 with 1 Axes>"
            ]
          },
          "metadata": {
            "tags": [],
            "needs_background": "light"
          }
        }
      ]
    },
    {
      "cell_type": "code",
      "metadata": {
        "colab": {
          "base_uri": "https://localhost:8080/",
          "height": 265
        },
        "id": "wflJxhFNERQV",
        "outputId": "bbf42e1d-6a71-4df3-dd5e-f12a300b680c"
      },
      "source": [
        "plt.hist(df['Impressions'])\r\n",
        "plt.show()"
      ],
      "execution_count": null,
      "outputs": [
        {
          "output_type": "display_data",
          "data": {
            "image/png": "[encoded data removed]",
            "text/plain": [
              "<Figure size 432x288 with 1 Axes>"
            ]
          },
          "metadata": {
            "tags": [],
            "needs_background": "light"
          }
        }
      ]
    },
    {
      "cell_type": "code",
      "metadata": {
        "colab": {
          "base_uri": "https://localhost:8080/"
        },
        "id": "Tc2H_-w9EWv9",
        "outputId": "d110cc38-5ef7-4c05-e7b7-f4bb710f8d3e"
      },
      "source": [
        "df.shape"
      ],
      "execution_count": null,
      "outputs": [
        {
          "output_type": "execute_result",
          "data": {
            "text/plain": [
              "(5650, 35)"
            ]
          },
          "metadata": {
            "tags": []
          },
          "execution_count": 76
        }
      ]
    },
    {
      "cell_type": "markdown",
      "metadata": {
        "id": "3WHC_fHpaixT"
      },
      "source": [
        "## Feature engineering"
      ]
    },
    {
      "cell_type": "code",
      "metadata": {
        "colab": {
          "base_uri": "https://localhost:8080/"
        },
        "id": "Wm4BxcfA9sW-",
        "outputId": "73849dc1-93a8-48f3-e0bf-f8bb3bbe1c9e"
      },
      "source": [
        "df['StartDate'] = pd.to_datetime(df['StartDate'])\r\n",
        "df['EndDate'] = pd.to_datetime(df['EndDate'])\r\n",
        "\r\n",
        "df['Length'] = df['EndDate'] - df['StartDate']\r\n",
        "df['Length'].sort_values(ascending=False)"
      ],
      "execution_count": null,
      "outputs": [
        {
          "output_type": "execute_result",
          "data": {
            "text/plain": [
              "2756    514 days 23:00:00\n",
              "12509   247 days 07:25:15\n",
              "5755    247 days 07:25:15\n",
              "11047   247 days 07:25:15\n",
              "12650   225 days 23:10:49\n",
              "               ...       \n",
              "12687                 NaT\n",
              "12696                 NaT\n",
              "12705                 NaT\n",
              "12720                 NaT\n",
              "12726                 NaT\n",
              "Name: Length, Length: 11226, dtype: timedelta64[ns]"
            ]
          },
          "metadata": {
            "tags": []
          },
          "execution_count": 42
        }
      ]
    },
    {
      "cell_type": "code",
      "metadata": {
        "id": "6pDvlocXrF9D"
      },
      "source": [
        "df['Gender'].fillna('BOTH', inplace=True)\r\n",
        "df['AgeBracket'].fillna('ALL', inplace=True)"
      ],
      "execution_count": null,
      "outputs": []
    },
    {
      "cell_type": "code",
      "metadata": {
        "colab": {
          "base_uri": "https://localhost:8080/"
        },
        "id": "KJ3RpTKWqLxB",
        "outputId": "b8e9b8b2-db46-4471-deaa-6622717a2b3a"
      },
      "source": [
        "# Percent of missing values\r\n",
        "df.isnull().sum() / len(df) * 100"
      ],
      "execution_count": null,
      "outputs": [
        {
          "output_type": "execute_result",
          "data": {
            "text/plain": [
              "ADID                                0.000000\n",
              "CreativeUrl                         0.000000\n",
              "Currency Code                       0.000000\n",
              "Spend                               0.000000\n",
              "Impressions                         0.000000\n",
              "StartDate                           0.000000\n",
              "EndDate                             8.601770\n",
              "OrganizationName                    0.000000\n",
              "BillingAddress                      0.000000\n",
              "CandidateBallotInformation         40.991150\n",
              "PayingAdvertiserName                0.000000\n",
              "Gender                              0.000000\n",
              "AgeBracket                          0.000000\n",
              "CountryCode                         0.000000\n",
              "Regions (Included)                 51.663717\n",
              "Regions (Excluded)                 97.380531\n",
              "Electoral Districts (Included)     97.823009\n",
              "Electoral Districts (Excluded)    100.000000\n",
              "Radius Targeting (Included)        92.584071\n",
              "Radius Targeting (Excluded)        99.840708\n",
              "Metros (Included)                  95.203540\n",
              "Metros (Excluded)                 100.000000\n",
              "Postal Codes (Included)            82.389381\n",
              "Postal Codes (Excluded)            99.380531\n",
              "Location Categories (Included)    100.000000\n",
              "Location Categories (Excluded)    100.000000\n",
              "Interests                          83.115044\n",
              "OsType                             99.681416\n",
              "Segments                           59.752212\n",
              "Language                           83.327434\n",
              "AdvancedDemographics               91.345133\n",
              "Targeting Connection Type          99.858407\n",
              "Targeting Carrier (ISP)           100.000000\n",
              "CreativeProperties                 13.929204\n",
              "Length                              8.601770\n",
              "dtype: float64"
            ]
          },
          "metadata": {
            "tags": []
          },
          "execution_count": 79
        }
      ]
    },
    {
      "cell_type": "code",
      "metadata": {
        "id": "rJgNCYfPm-dx"
      },
      "source": [
        "df = df.drop(['Electoral Districts (Excluded)', 'Metros (Excluded)', 'Location Categories (Included)', 'Location Categories (Excluded)', 'OsType', \r\n",
        "              'Targeting Connection Type', 'Targeting Carrier (ISP)'], axis=1)"
      ],
      "execution_count": null,
      "outputs": []
    },
    {
      "cell_type": "code",
      "metadata": {
        "colab": {
          "base_uri": "https://localhost:8080/"
        },
        "id": "5zV0CX4rb4m9",
        "outputId": "2b3feb27-50f2-4349-907c-cbd2c98d5c2c"
      },
      "source": [
        "df.info()"
      ],
      "execution_count": null,
      "outputs": [
        {
          "output_type": "stream",
          "text": [
            "<class 'pandas.core.frame.DataFrame'>\n",
            "Int64Index: 5650 entries, 0 to 12725\n",
            "Data columns (total 28 columns):\n",
            " #   Column                          Non-Null Count  Dtype              \n",
            "---  ------                          --------------  -----              \n",
            " 0   ADID                            5650 non-null   object             \n",
            " 1   CreativeUrl                     5650 non-null   object             \n",
            " 2   Currency Code                   5650 non-null   object             \n",
            " 3   Spend                           5650 non-null   int64              \n",
            " 4   Impressions                     5650 non-null   int64              \n",
            " 5   StartDate                       5650 non-null   datetime64[ns, UTC]\n",
            " 6   EndDate                         5164 non-null   datetime64[ns, UTC]\n",
            " 7   OrganizationName                5650 non-null   object             \n",
            " 8   BillingAddress                  5650 non-null   object             \n",
            " 9   CandidateBallotInformation      3334 non-null   object             \n",
            " 10  PayingAdvertiserName            5650 non-null   object             \n",
            " 11  Gender                          5650 non-null   object             \n",
            " 12  AgeBracket                      5650 non-null   object             \n",
            " 13  CountryCode                     5650 non-null   object             \n",
            " 14  Regions (Included)              2731 non-null   object             \n",
            " 15  Regions (Excluded)              148 non-null    object             \n",
            " 16  Electoral Districts (Included)  123 non-null    object             \n",
            " 17  Radius Targeting (Included)     419 non-null    object             \n",
            " 18  Radius Targeting (Excluded)     9 non-null      object             \n",
            " 19  Metros (Included)               271 non-null    object             \n",
            " 20  Postal Codes (Included)         995 non-null    object             \n",
            " 21  Postal Codes (Excluded)         35 non-null     object             \n",
            " 22  Interests                       954 non-null    object             \n",
            " 23  Segments                        2274 non-null   object             \n",
            " 24  Language                        942 non-null    object             \n",
            " 25  AdvancedDemographics            489 non-null    object             \n",
            " 26  CreativeProperties              4863 non-null   object             \n",
            " 27  Length                          5164 non-null   timedelta64[ns]    \n",
            "dtypes: datetime64[ns, UTC](2), int64(2), object(23), timedelta64[ns](1)\n",
            "memory usage: 1.3+ MB\n"
          ],
          "name": "stdout"
        }
      ]
    },
    {
      "cell_type": "code",
      "metadata": {
        "colab": {
          "base_uri": "https://localhost:8080/"
        },
        "id": "llohM6LlcHhM",
        "outputId": "3fd20f78-b5de-4e3d-be18-94d116df09a9"
      },
      "source": [
        "df['Electoral Districts (Included)'].unique()"
      ],
      "execution_count": null,
      "outputs": [
        {
          "output_type": "execute_result",
          "data": {
            "text/plain": [
              "array([nan, 'California 45th District', 'Maine 2nd District',\n",
              "       'Florida 26th District', 'Texas 24th District',\n",
              "       'Florida 1st District,Florida 2nd District,Florida 3rd District,Florida 4th District,Florida 5th District',\n",
              "       'Colorado 3rd District', 'Washington 10th District',\n",
              "       'California 21st District', 'Georgia 7th District',\n",
              "       'California 28th District', 'California 25th District',\n",
              "       'New York 11th District', 'Illinois 14th District',\n",
              "       'Indiana 5th District', 'North Carolina 8th District',\n",
              "       'Texas 22nd District', 'Arizona 6th District',\n",
              "       'Nebraska 2nd District', 'New York 22nd District',\n",
              "       'Nebraska 3rd District',\n",
              "       'Virginia 2nd District,Virginia 5th District,Virginia 7th District',\n",
              "       'Minnesota 2nd District', 'California 23rd District'], dtype=object)"
            ]
          },
          "metadata": {
            "tags": []
          },
          "execution_count": 84
        }
      ]
    },
    {
      "cell_type": "code",
      "metadata": {
        "colab": {
          "base_uri": "https://localhost:8080/"
        },
        "id": "GsnfewS7dZ_V",
        "outputId": "a846fb37-0a5a-4c15-a429-a382bd39d768"
      },
      "source": [
        "df['Electoral Districts (Included)'].nunique()"
      ],
      "execution_count": null,
      "outputs": [
        {
          "output_type": "execute_result",
          "data": {
            "text/plain": [
              "23"
            ]
          },
          "metadata": {
            "tags": []
          },
          "execution_count": 85
        }
      ]
    },
    {
      "cell_type": "code",
      "metadata": {
        "colab": {
          "base_uri": "https://localhost:8080/"
        },
        "id": "VtTJvf-pdkRC",
        "outputId": "a7c56520-f334-4654-fd96-8ad9b937011d"
      },
      "source": [
        "df['PayingAdvertiserName'].nunique()"
      ],
      "execution_count": null,
      "outputs": [
        {
          "output_type": "execute_result",
          "data": {
            "text/plain": [
              "315"
            ]
          },
          "metadata": {
            "tags": []
          },
          "execution_count": 86
        }
      ]
    },
    {
      "cell_type": "code",
      "metadata": {
        "colab": {
          "base_uri": "https://localhost:8080/"
        },
        "id": "CaPCSNYgk776",
        "outputId": "7c51a9f6-a0b1-40ec-820e-0efbb5236863"
      },
      "source": [
        "df.corr().loc[:, 'Impressions'].sort_values(ascending=False)d"
      ],
      "execution_count": null,
      "outputs": [
        {
          "output_type": "execute_result",
          "data": {
            "text/plain": [
              "Impressions    1.000000\n",
              "Spend          0.714617\n",
              "Name: Impressions, dtype: float64"
            ]
          },
          "metadata": {
            "tags": []
          },
          "execution_count": 81
        }
      ]
    }
  ]
}